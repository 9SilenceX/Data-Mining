{
 "cells": [
  {
   "attachments": {
    "image.png": {
     "image/png": "[encoded data removed]"
    }
   },
   "cell_type": "markdown",
   "metadata": {},
   "source": [
    "# Height of all patients\n",
    "We would like to create a histogram of the heights of all patients that were admitted to hospital. Hence, in this case we do not need to filter out patients younger than 16 years old. The height is registered by two different charted events, namely ‘Admit Ht’ (unique identifier 920) and ‘Height (cm)’ (unique identifier 226730).\n",
    "### SQL query description\n",
    "The query diagram is visualized below. Since we are interested in the heights of all patients and hence do not need to filter on age, we only need the Chartevents table.\n",
    "![image.png](attachment:image.png)"
   ]
  },
  {
   "cell_type": "code",
   "execution_count": 1,
   "metadata": {},
   "outputs": [],
   "source": [
    "#imports:\n",
    "import numpy as np\n",
    "import pandas as pd\n",
    "import sys\n",
    "import matplotlib.pyplot as plt\n",
    "from matplotlib import cm\n",
    "import matplotlib.colors as mc\n",
    "import colorsys\n",
    "import psycopg2\n",
    "%matplotlib inline\n",
    "# Configuration:\n",
    "sqluser = 'postgres'\n",
    "dbname = 'mimic'\n",
    "password='postgres'\n",
    "schema_name = 'mimiciii'\n",
    "# Connect to MIMIC-III:\n",
    "con = psycopg2.connect(dbname=dbname, user=sqluser, password=password)\n",
    "cur = con.cursor()\n",
    "cur.execute('SET search_path to ' + schema_name)"
   ]
  },
  {
   "cell_type": "code",
   "execution_count": 2,
   "metadata": {},
   "outputs": [
    {
     "data": {
      "text/html": [
       "<div>\n",
       "<style scoped>\n",
       "    .dataframe tbody tr th:only-of-type {\n",
       "        vertical-align: middle;\n",
       "    }\n",
       "\n",
       "    .dataframe tbody tr th {\n",
       "        vertical-align: top;\n",
       "    }\n",
       "\n",
       "    .dataframe thead th {\n",
       "        text-align: right;\n",
       "    }\n",
       "</style>\n",
       "<table border=\"1\" class=\"dataframe\">\n",
       "  <thead>\n",
       "    <tr style=\"text-align: right;\">\n",
       "      <th></th>\n",
       "      <th>itemid</th>\n",
       "      <th>label</th>\n",
       "    </tr>\n",
       "  </thead>\n",
       "  <tbody>\n",
       "    <tr>\n",
       "      <th>0</th>\n",
       "      <td>216</td>\n",
       "      <td>Height of Bed</td>\n",
       "    </tr>\n",
       "    <tr>\n",
       "      <th>1</th>\n",
       "      <td>920</td>\n",
       "      <td>Admit Ht</td>\n",
       "    </tr>\n",
       "    <tr>\n",
       "      <th>2</th>\n",
       "      <td>1394</td>\n",
       "      <td>Height Inches</td>\n",
       "    </tr>\n",
       "    <tr>\n",
       "      <th>3</th>\n",
       "      <td>226707</td>\n",
       "      <td>Height</td>\n",
       "    </tr>\n",
       "    <tr>\n",
       "      <th>4</th>\n",
       "      <td>226730</td>\n",
       "      <td>Height (cm)</td>\n",
       "    </tr>\n",
       "  </tbody>\n",
       "</table>\n",
       "</div>"
      ],
      "text/plain": [
       "   itemid          label\n",
       "0     216  Height of Bed\n",
       "1     920       Admit Ht\n",
       "2    1394  Height Inches\n",
       "3  226707         Height\n",
       "4  226730    Height (cm)"
      ]
     },
     "execution_count": 2,
     "metadata": {},
     "output_type": "execute_result"
    }
   ],
   "source": [
    "# Get the item ids related to height:\n",
    "query =\"\"\"\n",
    "SELECT d.itemid, d.label\n",
    "FROM mimiciii.d_items d\n",
    "WHERE d.label LIKE '%Height%' OR d.itemid = 920\n",
    "\"\"\"\n",
    "\n",
    "query_output = pd.read_sql_query(query,con)\n",
    "query_output"
   ]
  },
  {
   "cell_type": "code",
   "execution_count": 3,
   "metadata": {},
   "outputs": [],
   "source": [
    "query =\"\"\"\n",
    "SELECT width_bucket(ce.valuenum, 1, 200, 200) as height, count(*)\n",
    "FROM mimiciii.chartevents ce\n",
    "WHERE ce.itemid in (920, 226730) AND ce.valuenum IS NOT NULL AND ce.valuenum > 0 AND ce.valuenum < 500\n",
    "GROUP BY height\n",
    "ORDER BY height;\n",
    "\"\"\"\n",
    "\n",
    "query_output = pd.read_sql_query(query, con)"
   ]
  },
  {
   "cell_type": "code",
   "execution_count": 4,
   "metadata": {},
   "outputs": [
    {
     "data": {
      "image/png": "[encoded data removed]",
      "text/plain": [
       "<Figure size 432x288 with 1 Axes>"
      ]
     },
     "metadata": {
      "needs_background": "light"
     },
     "output_type": "display_data"
    }
   ],
   "source": [
    "# Visualize:\n",
    "fig, ax = plt.subplots()\n",
    "bars = ax.bar(query_output['height'], query_output['count'])\n",
    "plt.xlabel('Height in cm')\n",
    "plt.title('Height in cm')\n",
    "\n",
    "ax.spines['top'].set_visible(False)\n",
    "ax.spines['right'].set_visible(False)\n",
    "ax.spines['left'].set_visible(False)\n",
    "ax.spines['bottom'].set_color('#DDDDDD')\n",
    "ax.tick_params(bottom=False, left=False)\n",
    "ax.set_axisbelow(True)\n",
    "ax.yaxis.grid(True, color='#EEEEEE')\n",
    "ax.xaxis.grid(False)\n",
    "bar_color = bars[0].get_facecolor()\n",
    "plt.tight_layout()\n",
    "fig.savefig('figures/height_histogram.jpg', dpi=400)"
   ]
  }
 ],
 "metadata": {
  "kernelspec": {
   "display_name": "Python 3",
   "language": "python",
   "name": "python3"
  },
  "language_info": {
   "codemirror_mode": {
    "name": "ipython",
    "version": 3
   },
   "file_extension": ".py",
   "mimetype": "text/x-python",
   "name": "python",
   "nbconvert_exporter": "python",
   "pygments_lexer": "ipython3",
   "version": "3.8.5"
  }
 },
 "nbformat": 4,
 "nbformat_minor": 4
}
